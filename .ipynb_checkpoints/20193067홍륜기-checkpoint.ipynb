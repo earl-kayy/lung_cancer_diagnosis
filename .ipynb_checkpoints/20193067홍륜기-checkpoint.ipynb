{
 "cells": [
  {
   "cell_type": "markdown",
   "id": "52178591-09a3-43ee-ab8c-58aab49851b6",
   "metadata": {},
   "source": [
    "# import"
   ]
  },
  {
   "cell_type": "code",
   "execution_count": 1,
   "id": "c59fc8b5-bd09-4ea2-9318-ff1707eb6eca",
   "metadata": {},
   "outputs": [],
   "source": [
    "import numpy as np\n",
    "import pandas as pd\n",
    "import matplotlib.pyplot as plt\n",
    "import seaborn as sns\n",
    "from scipy.stats import chi2_contingency\n",
    "\n",
    "from sklearn.cluster import KMeans\n",
    "from sklearn.ensemble import (\n",
    "    RandomForestClassifier, \n",
    "    StackingClassifier,\n",
    "    VotingClassifier\n",
    ")\n",
    "from sklearn.linear_model import LogisticRegression\n",
    "from sklearn.metrics import auc, roc_auc_score, roc_curve\n",
    "from sklearn.model_selection import train_test_split\n",
    "from sklearn.svm import SVC\n",
    "from xgboost import XGBClassifier\n",
    "from lightgbm import LGBMClassifier"
   ]
  },
  {
   "cell_type": "markdown",
   "id": "cbfd0bb2-d5d3-4531-b846-3b319a16467d",
   "metadata": {},
   "source": [
    "# Preprocessing Data"
   ]
  },
  {
   "cell_type": "markdown",
   "id": "a39f3f8a-e888-4d4d-9f12-3e8b263114e1",
   "metadata": {},
   "source": [
    "### prepare data"
   ]
  },
  {
   "cell_type": "code",
   "execution_count": 5,
   "id": "beb953a8-e78e-476e-b917-e5000c9db9c0",
   "metadata": {},
   "outputs": [
    {
     "data": {
      "text/html": [
       "<div>\n",
       "<style scoped>\n",
       "    .dataframe tbody tr th:only-of-type {\n",
       "        vertical-align: middle;\n",
       "    }\n",
       "\n",
       "    .dataframe tbody tr th {\n",
       "        vertical-align: top;\n",
       "    }\n",
       "\n",
       "    .dataframe thead th {\n",
       "        text-align: right;\n",
       "    }\n",
       "</style>\n",
       "<table border=\"1\" class=\"dataframe\">\n",
       "  <thead>\n",
       "    <tr style=\"text-align: right;\">\n",
       "      <th></th>\n",
       "      <th>AGE_B</th>\n",
       "      <th>SMOK_B</th>\n",
       "      <th>SMOKA_MOD_B</th>\n",
       "      <th>ALCO_B</th>\n",
       "      <th>ALCO_AMOUNT_B</th>\n",
       "      <th>EXER_B</th>\n",
       "      <th>MDM_B</th>\n",
       "      <th>MHTN_B</th>\n",
       "      <th>MLPD_B</th>\n",
       "      <th>PHTN_B</th>\n",
       "      <th>...</th>\n",
       "      <th>SRECTM</th>\n",
       "      <th>SPROST</th>\n",
       "      <th>STHROI</th>\n",
       "      <th>SBREAC</th>\n",
       "      <th>SLUNG</th>\n",
       "      <th>SSTOMA</th>\n",
       "      <th>SLIVER</th>\n",
       "      <th>SEX1</th>\n",
       "      <th>CRC</th>\n",
       "      <th>SCRC</th>\n",
       "    </tr>\n",
       "  </thead>\n",
       "  <tbody>\n",
       "    <tr>\n",
       "      <th>0</th>\n",
       "      <td>39</td>\n",
       "      <td>1.0</td>\n",
       "      <td>0.0</td>\n",
       "      <td>1.0</td>\n",
       "      <td>NaN</td>\n",
       "      <td>1.0</td>\n",
       "      <td>NaN</td>\n",
       "      <td>NaN</td>\n",
       "      <td>NaN</td>\n",
       "      <td>NaN</td>\n",
       "      <td>...</td>\n",
       "      <td>11.5</td>\n",
       "      <td>11.5</td>\n",
       "      <td>2.000000</td>\n",
       "      <td>11.5</td>\n",
       "      <td>11.5</td>\n",
       "      <td>11.5</td>\n",
       "      <td>11.5</td>\n",
       "      <td>2</td>\n",
       "      <td>0</td>\n",
       "      <td>11.500000</td>\n",
       "    </tr>\n",
       "    <tr>\n",
       "      <th>1</th>\n",
       "      <td>44</td>\n",
       "      <td>1.0</td>\n",
       "      <td>NaN</td>\n",
       "      <td>1.0</td>\n",
       "      <td>0.000000</td>\n",
       "      <td>1.0</td>\n",
       "      <td>NaN</td>\n",
       "      <td>NaN</td>\n",
       "      <td>NaN</td>\n",
       "      <td>NaN</td>\n",
       "      <td>...</td>\n",
       "      <td>11.5</td>\n",
       "      <td>11.5</td>\n",
       "      <td>11.500000</td>\n",
       "      <td>11.5</td>\n",
       "      <td>11.5</td>\n",
       "      <td>11.5</td>\n",
       "      <td>11.5</td>\n",
       "      <td>2</td>\n",
       "      <td>0</td>\n",
       "      <td>11.500000</td>\n",
       "    </tr>\n",
       "    <tr>\n",
       "      <th>2</th>\n",
       "      <td>46</td>\n",
       "      <td>2.0</td>\n",
       "      <td>10.0</td>\n",
       "      <td>2.0</td>\n",
       "      <td>4.580357</td>\n",
       "      <td>1.0</td>\n",
       "      <td>NaN</td>\n",
       "      <td>NaN</td>\n",
       "      <td>NaN</td>\n",
       "      <td>NaN</td>\n",
       "      <td>...</td>\n",
       "      <td>11.5</td>\n",
       "      <td>11.5</td>\n",
       "      <td>11.500000</td>\n",
       "      <td>11.5</td>\n",
       "      <td>11.5</td>\n",
       "      <td>11.5</td>\n",
       "      <td>11.5</td>\n",
       "      <td>1</td>\n",
       "      <td>0</td>\n",
       "      <td>11.500000</td>\n",
       "    </tr>\n",
       "    <tr>\n",
       "      <th>3</th>\n",
       "      <td>43</td>\n",
       "      <td>1.0</td>\n",
       "      <td>0.0</td>\n",
       "      <td>2.0</td>\n",
       "      <td>5.571429</td>\n",
       "      <td>2.0</td>\n",
       "      <td>NaN</td>\n",
       "      <td>NaN</td>\n",
       "      <td>NaN</td>\n",
       "      <td>NaN</td>\n",
       "      <td>...</td>\n",
       "      <td>11.5</td>\n",
       "      <td>11.5</td>\n",
       "      <td>11.500000</td>\n",
       "      <td>11.5</td>\n",
       "      <td>11.5</td>\n",
       "      <td>11.5</td>\n",
       "      <td>11.5</td>\n",
       "      <td>1</td>\n",
       "      <td>0</td>\n",
       "      <td>11.500000</td>\n",
       "    </tr>\n",
       "    <tr>\n",
       "      <th>4</th>\n",
       "      <td>45</td>\n",
       "      <td>NaN</td>\n",
       "      <td>NaN</td>\n",
       "      <td>1.0</td>\n",
       "      <td>NaN</td>\n",
       "      <td>2.0</td>\n",
       "      <td>NaN</td>\n",
       "      <td>NaN</td>\n",
       "      <td>NaN</td>\n",
       "      <td>NaN</td>\n",
       "      <td>...</td>\n",
       "      <td>11.5</td>\n",
       "      <td>11.5</td>\n",
       "      <td>2.333333</td>\n",
       "      <td>11.5</td>\n",
       "      <td>11.5</td>\n",
       "      <td>11.5</td>\n",
       "      <td>11.5</td>\n",
       "      <td>2</td>\n",
       "      <td>1</td>\n",
       "      <td>-12.083333</td>\n",
       "    </tr>\n",
       "  </tbody>\n",
       "</table>\n",
       "<p>5 rows × 64 columns</p>\n",
       "</div>"
      ],
      "text/plain": [
       "   AGE_B  SMOK_B  SMOKA_MOD_B  ALCO_B  ALCO_AMOUNT_B  EXER_B  MDM_B  MHTN_B  \\\n",
       "0     39     1.0          0.0     1.0            NaN     1.0    NaN     NaN   \n",
       "1     44     1.0          NaN     1.0       0.000000     1.0    NaN     NaN   \n",
       "2     46     2.0         10.0     2.0       4.580357     1.0    NaN     NaN   \n",
       "3     43     1.0          0.0     2.0       5.571429     2.0    NaN     NaN   \n",
       "4     45     NaN          NaN     1.0            NaN     2.0    NaN     NaN   \n",
       "\n",
       "   MLPD_B  PHTN_B  ...  SRECTM  SPROST     STHROI  SBREAC  SLUNG  SSTOMA  \\\n",
       "0     NaN     NaN  ...    11.5    11.5   2.000000    11.5   11.5    11.5   \n",
       "1     NaN     NaN  ...    11.5    11.5  11.500000    11.5   11.5    11.5   \n",
       "2     NaN     NaN  ...    11.5    11.5  11.500000    11.5   11.5    11.5   \n",
       "3     NaN     NaN  ...    11.5    11.5  11.500000    11.5   11.5    11.5   \n",
       "4     NaN     NaN  ...    11.5    11.5   2.333333    11.5   11.5    11.5   \n",
       "\n",
       "   SLIVER  SEX1  CRC       SCRC  \n",
       "0    11.5     2    0  11.500000  \n",
       "1    11.5     2    0  11.500000  \n",
       "2    11.5     1    0  11.500000  \n",
       "3    11.5     1    0  11.500000  \n",
       "4    11.5     2    1 -12.083333  \n",
       "\n",
       "[5 rows x 64 columns]"
      ]
     },
     "execution_count": 5,
     "metadata": {},
     "output_type": "execute_result"
    }
   ],
   "source": [
    "# phenotype.txt dataframe -> dataframe\n",
    "data = pd.read_csv('phenotype.txt', sep=\"\\t\")\n",
    "data.drop(columns = ['FID', 'IID']).head()"
   ]
  },
  {
   "cell_type": "code",
   "execution_count": 6,
   "id": "c755b630-32d7-448e-a93e-ef635bba5ce3",
   "metadata": {},
   "outputs": [
    {
     "data": {
      "text/plain": [
       "(16955, 66)"
      ]
     },
     "execution_count": 6,
     "metadata": {},
     "output_type": "execute_result"
    }
   ],
   "source": [
    "data.shape"
   ]
  },
  {
   "cell_type": "markdown",
   "id": "a5931234-e645-437e-926a-fb9a6a0bfb3d",
   "metadata": {},
   "source": [
    "### missing value process"
   ]
  },
  {
   "cell_type": "code",
   "execution_count": 4,
   "id": "a2629c9f-6b94-450f-a761-8ee83ace204f",
   "metadata": {},
   "outputs": [
    {
     "data": {
      "text/plain": [
       "SMOK_B             177\n",
       "SMOKA_MOD_B       5950\n",
       "ALCO_B             577\n",
       "ALCO_AMOUNT_B     1450\n",
       "EXER_B            1199\n",
       "MDM_B            16262\n",
       "MHTN_B           15002\n",
       "MLPD_B           16516\n",
       "PHTN_B           14602\n",
       "PDM_B            15980\n",
       "PLPD_B           16251\n",
       "HT_B                34\n",
       "WT_B                35\n",
       "WAIST_B            832\n",
       "SBP_B              223\n",
       "DBP_B              223\n",
       "CHO_B               56\n",
       "LDL_B              165\n",
       "TG_B               137\n",
       "HDL_B              260\n",
       "FBS_B               40\n",
       "GOT_B               53\n",
       "GPT_B               53\n",
       "GGT_B              110\n",
       "URIC_B            1403\n",
       "PCAN80           16916\n",
       "PCAN81           16768\n",
       "PCAN82           16943\n",
       "PCAN83           16908\n",
       "PCAN84           16839\n",
       "PCAN86           16919\n",
       "PCAN89           16662\n",
       "FCAN80           16559\n",
       "FCAN81           15835\n",
       "FCAN82           16907\n",
       "FCAN83           16576\n",
       "FCAN84           16670\n",
       "FCAN86           16432\n",
       "FCAN89           16798\n",
       "FEV1              7652\n",
       "FVC               7652\n",
       "BIL                983\n",
       "WBC               1515\n",
       "CREAT              729\n",
       "dtype: int64"
      ]
     },
     "execution_count": 4,
     "metadata": {},
     "output_type": "execute_result"
    }
   ],
   "source": [
    "missing_data = data.isna().sum()\n",
    "missing_data = missing_data[missing_data > 0]\n",
    "missing_data"
   ]
  },
  {
   "cell_type": "code",
   "execution_count": 5,
   "id": "4778fdc7-a43d-4e24-9c29-57ef44295dcc",
   "metadata": {},
   "outputs": [
    {
     "data": {
      "text/plain": [
       "ALCO_B             577\n",
       "ALCO_AMOUNT_B     1450\n",
       "EXER_B            1199\n",
       "MDM_B            16262\n",
       "MHTN_B           15002\n",
       "MLPD_B           16516\n",
       "PHTN_B           14602\n",
       "PDM_B            15980\n",
       "PLPD_B           16251\n",
       "FEV1              7652\n",
       "FVC               7652\n",
       "dtype: int64"
      ]
     },
     "execution_count": 5,
     "metadata": {},
     "output_type": "execute_result"
    }
   ],
   "source": [
    "# 1. SMOK_B N/A\n",
    "data['SMOK_B'] = data['SMOK_B'].fillna(round(data['SMOK_B'].mean()))\n",
    "\n",
    "# 2. SMOKA_MOD_B N/A\n",
    "data.loc[(data['SMOK_B'] == 1) & (data['SMOKA_MOD_B'].isnull()), 'SMOKA_MOD_B'] = 0\n",
    "data.loc[(data['SMOK_B'] == 2) & (data['SMOKA_MOD_B'].isnull()), 'SMOKA_MOD_B'] = round(data[data['SMOK_B'] == 2]['SMOKA_MOD_B'].mean())\n",
    "data.loc[(data['SMOK_B'] == 3) & (data['SMOKA_MOD_B'].isnull()), 'SMOKA_MOD_B'] = round(data[data['SMOK_B'] == 3]['SMOKA_MOD_B'].mean())\n",
    "\n",
    "# 3. HT_B, WT_B, WAIST_B N/A\n",
    "cols_to_fill_mean = ['HT_B', 'WT_B', 'WAIST_B']\n",
    "for col in cols_to_fill_mean:\n",
    "    data[col] = data[col].fillna(round(data[col].mean()))\n",
    "\n",
    "# 4. SBP_B, DBP_B, CHO_B, LDL_B, TG_B, HDL_B, FBS_B, GOT_B, GPT_B, GGT_B, URIC_B N/A\n",
    "cols_to_fill_mean = ['SBP_B', 'DBP_B', 'CHO_B', 'LDL_B', 'TG_B', \n",
    "                     'HDL_B', 'FBS_B', 'GOT_B', 'GPT_B', 'GGT_B', 'URIC_B']\n",
    "for col in cols_to_fill_mean:\n",
    "    data[col] = data[col].fillna(round(data[col].mean()))\n",
    "\n",
    "# 5. PCAN80 ~ PCAN89, FCAN80 ~ FCAN89 N/A\n",
    "cols = [80, 81, 82, 83, 84, 86, 89]\n",
    "pcan_cols = [f'PCAN{str(i)}' for i in cols]\n",
    "fcan_cols = [f'FCAN{str(i)}' for i in cols]\n",
    "cols_to_fill_zero = pcan_cols + fcan_cols\n",
    "for col in cols_to_fill_zero:\n",
    "    if col in data.columns:\n",
    "        data[col] = data[col].fillna(0)\n",
    "\n",
    "# 6. BIL, WBC, CREAT N/A\n",
    "cols_to_fill_mean = ['BIL', 'WBC', 'CREAT']\n",
    "for col in cols_to_fill_mean:\n",
    "    data[col] = data[col].fillna(round(data[col].mean(), 2))\n",
    "\n",
    "# After 'fillna'\n",
    "missing_data = data.isna().sum()\n",
    "missing_data = missing_data[missing_data > 0]\n",
    "missing_data"
   ]
  },
  {
   "cell_type": "markdown",
   "id": "25e04d14-6245-4edf-8f55-6bea4ce2a425",
   "metadata": {},
   "source": [
    "### Outlier Processing"
   ]
  },
  {
   "cell_type": "code",
   "execution_count": 6,
   "id": "3c9a5b1f-606a-4604-bbae-f975f698368c",
   "metadata": {},
   "outputs": [],
   "source": [
    "# WBC outlier processing\n",
    "Q1 = data['WBC'].quantile(0.25)\n",
    "Q3 = data['WBC'].quantile(0.75)\n",
    "IQR = Q3 - Q1\n",
    "\n",
    "lower_bound = Q1 - 1.5 * IQR\n",
    "upper_bound = Q3 + 1.5 * IQR\n",
    "\n",
    "data['WBC'] = data['WBC'].apply(\n",
    "    lambda x: lower_bound if x < lower_bound else (upper_bound if x > upper_bound else x)\n",
    ")"
   ]
  },
  {
   "cell_type": "markdown",
   "id": "890483c9-ce71-478c-9682-c4701a300c71",
   "metadata": {},
   "source": [
    "### Exploratory Data Analysis"
   ]
  },
  {
   "cell_type": "code",
   "execution_count": 7,
   "id": "ad1221b6-1271-424e-9e27-b5934d0323ea",
   "metadata": {},
   "outputs": [
    {
     "data": {
      "text/plain": [
       "Index(['FID', 'IID', 'AGE_B', 'SMOK_B', 'SMOKA_MOD_B', 'ALCO_B',\n",
       "       'ALCO_AMOUNT_B', 'EXER_B', 'MDM_B', 'MHTN_B', 'MLPD_B', 'PHTN_B',\n",
       "       'PDM_B', 'PLPD_B', 'HT_B', 'WT_B', 'WAIST_B', 'SBP_B', 'DBP_B', 'CHO_B',\n",
       "       'LDL_B', 'TG_B', 'HDL_B', 'FBS_B', 'GOT_B', 'GPT_B', 'GGT_B', 'URIC_B',\n",
       "       'PCAN80', 'PCAN81', 'PCAN82', 'PCAN83', 'PCAN84', 'PCAN86', 'PCAN89',\n",
       "       'FCAN80', 'FCAN81', 'FCAN82', 'FCAN83', 'FCAN84', 'FCAN86', 'FCAN89',\n",
       "       'FEV1', 'FVC', 'BIL', 'WBC', 'CREAT', 'STOMA', 'COLON', 'LIVER', 'LUNG',\n",
       "       'PROST', 'THROI', 'BREAC', 'RECTM', 'SCOLON', 'SRECTM', 'SPROST',\n",
       "       'STHROI', 'SBREAC', 'SLUNG', 'SSTOMA', 'SLIVER', 'SEX1', 'CRC', 'SCRC'],\n",
       "      dtype='object')"
      ]
     },
     "execution_count": 7,
     "metadata": {},
     "output_type": "execute_result"
    }
   ],
   "source": [
    "data.columns"
   ]
  },
  {
   "cell_type": "markdown",
   "id": "28c6eca8-8a28-4c95-b811-e5eb12f51d7a",
   "metadata": {},
   "source": [
    "##### drop columns: Leave one response variable (LUNG)"
   ]
  },
  {
   "cell_type": "code",
   "execution_count": 8,
   "id": "5f7df0a2-76ad-4902-a0d8-15dd7f576707",
   "metadata": {},
   "outputs": [
    {
     "data": {
      "text/plain": [
       "(16955, 49)"
      ]
     },
     "execution_count": 8,
     "metadata": {},
     "output_type": "execute_result"
    }
   ],
   "source": [
    "# exclude other types of cancer\n",
    "columns_to_drop = ['STOMA', 'COLON', 'LIVER', 'PROST', 'THROI', 'BREAC', 'RECTM', 'CRC',\n",
    "                  'SSTOMA', 'SCOLON', 'SLIVER', 'SPROST', 'STHROI', 'SBREAC', 'SRECTM', 'SCRC',\n",
    "                  'SLUNG']\n",
    "data.drop(columns=columns_to_drop, inplace = True)\n",
    "data.shape"
   ]
  },
  {
   "cell_type": "code",
   "execution_count": 9,
   "id": "ce79bd91-3a7d-439b-a9a1-3e4d7d9de55b",
   "metadata": {},
   "outputs": [
    {
     "data": {
      "text/plain": [
       "Index(['FID', 'IID', 'AGE_B', 'SMOK_B', 'SMOKA_MOD_B', 'ALCO_B',\n",
       "       'ALCO_AMOUNT_B', 'EXER_B', 'MDM_B', 'MHTN_B', 'MLPD_B', 'PHTN_B',\n",
       "       'PDM_B', 'PLPD_B', 'HT_B', 'WT_B', 'WAIST_B', 'SBP_B', 'DBP_B', 'CHO_B',\n",
       "       'LDL_B', 'TG_B', 'HDL_B', 'FBS_B', 'GOT_B', 'GPT_B', 'GGT_B', 'URIC_B',\n",
       "       'PCAN80', 'PCAN81', 'PCAN82', 'PCAN83', 'PCAN84', 'PCAN86', 'PCAN89',\n",
       "       'FCAN80', 'FCAN81', 'FCAN82', 'FCAN83', 'FCAN84', 'FCAN86', 'FCAN89',\n",
       "       'FEV1', 'FVC', 'BIL', 'WBC', 'CREAT', 'LUNG', 'SEX1'],\n",
       "      dtype='object')"
      ]
     },
     "execution_count": 9,
     "metadata": {},
     "output_type": "execute_result"
    }
   ],
   "source": [
    "data.columns"
   ]
  },
  {
   "cell_type": "markdown",
   "id": "419a2ffe-9d65-4c01-ac7c-7519c4c6a272",
   "metadata": {},
   "source": [
    "##### 상관성 확인"
   ]
  },
  {
   "cell_type": "code",
   "execution_count": 10,
   "id": "418f7ba0-7d70-405f-9026-fbbfbbf75d03",
   "metadata": {},
   "outputs": [],
   "source": [
    "temp = data.drop(columns = ['FID', 'IID'])"
   ]
  },
  {
   "cell_type": "code",
   "execution_count": 11,
   "id": "3a62ed76-28c5-43b3-ba13-d435c937a803",
   "metadata": {},
   "outputs": [
    {
     "data": {
      "text/plain": [
       "Index(['AGE_B', 'SMOK_B', 'SMOKA_MOD_B', 'ALCO_B', 'ALCO_AMOUNT_B', 'EXER_B',\n",
       "       'MDM_B', 'MHTN_B', 'MLPD_B', 'PHTN_B', 'PDM_B', 'PLPD_B', 'HT_B',\n",
       "       'WT_B', 'WAIST_B', 'SBP_B', 'DBP_B', 'CHO_B', 'LDL_B', 'TG_B', 'HDL_B',\n",
       "       'FBS_B', 'GOT_B', 'GPT_B', 'GGT_B', 'URIC_B', 'PCAN80', 'PCAN81',\n",
       "       'PCAN82', 'PCAN83', 'PCAN84', 'PCAN86', 'PCAN89', 'FCAN80', 'FCAN81',\n",
       "       'FCAN82', 'FCAN83', 'FCAN84', 'FCAN86', 'FCAN89', 'FEV1', 'FVC', 'BIL',\n",
       "       'WBC', 'CREAT', 'LUNG', 'SEX1'],\n",
       "      dtype='object')"
      ]
     },
     "execution_count": 11,
     "metadata": {},
     "output_type": "execute_result"
    }
   ],
   "source": [
    "temp.columns"
   ]
  },
  {
   "cell_type": "code",
   "execution_count": 12,
   "id": "e357177c-0c82-4112-8683-4699ee96b8b0",
   "metadata": {
    "scrolled": true
   },
   "outputs": [
    {
     "name": "stdout",
     "output_type": "stream",
     "text": [
      "LUNG             1.000000\n",
      "AGE_B            0.155282\n",
      "PCAN80           0.086338\n",
      "SMOKA_MOD_B      0.072209\n",
      "FVC              0.052830\n",
      "WBC              0.050032\n",
      "FEV1             0.048188\n",
      "SMOK_B           0.036053\n",
      "ALCO_AMOUNT_B    0.026773\n",
      "SBP_B            0.026695\n",
      "FBS_B            0.023291\n",
      "WAIST_B          0.022503\n",
      "FCAN80           0.021593\n",
      "DBP_B            0.020672\n",
      "LDL_B            0.016579\n",
      "CREAT            0.015777\n",
      "CHO_B            0.014057\n",
      "GGT_B            0.010960\n",
      "TG_B             0.009118\n",
      "HDL_B            0.002190\n",
      "EXER_B           0.001087\n",
      "GOT_B           -0.000264\n",
      "FCAN82          -0.002710\n",
      "URIC_B          -0.003778\n",
      "PCAN82          -0.004634\n",
      "FCAN83          -0.007446\n",
      "PCAN86          -0.008033\n",
      "FCAN81          -0.008377\n",
      "PCAN83          -0.009181\n",
      "FCAN89          -0.009548\n",
      "GPT_B           -0.011193\n",
      "FCAN84          -0.011911\n",
      "WT_B            -0.012724\n",
      "FCAN86          -0.012902\n",
      "PCAN84          -0.014453\n",
      "ALCO_B          -0.014481\n",
      "PCAN81          -0.015048\n",
      "HT_B            -0.015232\n",
      "PCAN89          -0.023092\n",
      "BIL             -0.026347\n",
      "SEX1            -0.032560\n",
      "MDM_B                 NaN\n",
      "MHTN_B                NaN\n",
      "MLPD_B                NaN\n",
      "PHTN_B                NaN\n",
      "PDM_B                 NaN\n",
      "PLPD_B                NaN\n",
      "Name: LUNG, dtype: float64\n"
     ]
    }
   ],
   "source": [
    "# Correlation Coefficient between 'Lung' and Other variables\n",
    "correlation = temp.corr()['LUNG'].sort_values(ascending=False)\n",
    "print(correlation)"
   ]
  },
  {
   "cell_type": "code",
   "execution_count": 102,
   "id": "fad6d854-f07d-4836-b6d7-aa53bc7b1cf3",
   "metadata": {},
   "outputs": [
    {
     "name": "stdout",
     "output_type": "stream",
     "text": [
      "Chi-squared: 802.9563144419042, p-value: 8.005984961930155e-08\n",
      "두 변수 간 상관성이 있습니다.\n"
     ]
    }
   ],
   "source": [
    "# Check statistical significance using p-value\n",
    "# This block was used as a 'pipeline': cross_tab = pd.crosstab(data['Lung'], data['***'])\n",
    "# '***' part can be changed with other variables that you would like to check p-value\n",
    "\n",
    "cross_tab = pd.crosstab(data['LUNG'], data['WBC'])\n",
    "\n",
    "chi2, p, dof, expected = chi2_contingency(cross_tab)\n",
    "print(f\"Chi-squared: {chi2}, p-value: {p}\")\n",
    "\n",
    "\n",
    "if p < 0.05:\n",
    "    print(\"두 변수 간 상관성이 있습니다.\")\n",
    "else:\n",
    "    print(\"두 변수 간 상관성이 없습니다.\")\n",
    "\n",
    "# Identified Correlations: AGE_B, SMOK_B, SMOKA_MOD_B, ALCO_AMOUNT_B, HT_B, WAIST_B, DBP_B, CHO_B, LDL_B, \n",
    "#           PCAN80/89, FCAN80,FEV1, WBC, CREAT, SEX1\n",
    "\n",
    "# Notes\n",
    "# Family history of thyroid cancer in close relatives has a stronger correlation with a patient's lung cancer status than a family history of lung cancer in distant relatives.\n",
    "\n",
    "# Hypothesis (Other variables I believe are related to lung cancer): ALCO_B, EXER_B, WT_B, FVC"
   ]
  },
  {
   "cell_type": "markdown",
   "id": "7da7b50c-4a06-4d35-9619-42db9e5f9d32",
   "metadata": {},
   "source": [
    "### Feature Engineering"
   ]
  },
  {
   "cell_type": "code",
   "execution_count": 16,
   "id": "bfda3766-35c4-48f8-baee-171521e4a685",
   "metadata": {},
   "outputs": [
    {
     "name": "stdout",
     "output_type": "stream",
     "text": [
      "6.061056149732621\n",
      "6.478376753507014\n"
     ]
    }
   ],
   "source": [
    "# Define new variables\n",
    "\n",
    "# SMOK_INT = SMOK_B * SMOKA_MOD_B : intensity of smoking\n",
    "data['SMOK_INT'] = data['SMOK_B'] * data['SMOKA_MOD_B']\n",
    "\n",
    "# ALCO_INT = 1/ALCO_B * ALCO_AMOUNT_B : intensity of drinking\n",
    "data['ALCO_INT'] = data['ALCO_AMOUNT_B']/data['ALCO_B']\n",
    "\n",
    "# BMI = WT_B / (HT_B/100)^2\n",
    "data['BMI'] = data['WT_B'] / (data['HT_B']/100)**2\n",
    "\n",
    "# FEV1_FVC = FEV1 / FVC: degree of airflow obstruction\n",
    "data['FEV1_FVC'] = data['FEV1']/data['FVC']\n",
    "\n",
    "# WBC: found a meaningful difference of WBC between Lung cancer presence\n",
    "print(data[data['LUNG'] == 0]['WBC'].mean())\n",
    "print(data[data['LUNG'] == 1]['WBC'].mean())"
   ]
  },
  {
   "cell_type": "code",
   "execution_count": 17,
   "id": "8844269c-eb17-49ae-b0dd-d4c419de6e3a",
   "metadata": {},
   "outputs": [
    {
     "name": "stdout",
     "output_type": "stream",
     "text": [
      "Normalized Weights: {'PCAN80': np.float64(0.5639930354605664), 'PCAN89': np.float64(0.37867018720514384), 'FCAN80': np.float64(0.057336777334289754)}\n"
     ]
    }
   ],
   "source": [
    "# Define new variables\n",
    "\n",
    "# Most relevant PCAN, FCAN variables were selected to quantify family history\n",
    "# Cancer_History_Score = x*PCAN80 + y*PCAN89 + z*FCAN80\n",
    "# each weight of them were trained through Logistic Regression\n",
    "\n",
    "# Logistic Regression to get x, y, z values\n",
    "X = data[['PCAN80', 'PCAN89', 'FCAN80']]\n",
    "y = data['LUNG']\n",
    "\n",
    "log_model = LogisticRegression(random_state=7, max_iter=100)\n",
    "log_model.fit(X, y)\n",
    "coefficients = dict(zip(X.columns, log_model.coef_[0]))\n",
    "\n",
    "# normalize weights\n",
    "total_weight = sum(abs(value) for value in coefficients.values())\n",
    "normalized_weights = {key: abs(value) / total_weight for key, value in coefficients.items()}\n",
    "print(\"Normalized Weights:\", normalized_weights)\n",
    "\n",
    "# Cancer_History_Score \n",
    "data['Cancer_History_Score'] = (\n",
    "    data['PCAN80'] * normalized_weights['PCAN80'] +\n",
    "    data['PCAN89'] * normalized_weights['PCAN89'] +  \n",
    "    data['FCAN80'] * normalized_weights['FCAN80']\n",
    ")"
   ]
  },
  {
   "cell_type": "markdown",
   "id": "1721e5c6-31b0-4343-a2a6-081c7f3351f2",
   "metadata": {},
   "source": [
    "# Test"
   ]
  },
  {
   "cell_type": "markdown",
   "id": "349df11a-dd34-41d9-9b24-46f7d5cabab6",
   "metadata": {},
   "source": [
    "### Data"
   ]
  },
  {
   "cell_type": "code",
   "execution_count": 93,
   "id": "a38e2e53-93de-4066-ac01-4cb9021f6017",
   "metadata": {},
   "outputs": [
    {
     "name": "stdout",
     "output_type": "stream",
     "text": [
      "Training Data Shape: (15259, 7)\n",
      "Testing Data Shape: (1696, 7)\n"
     ]
    }
   ],
   "source": [
    "features = ['AGE_B', 'SMOK_INT', 'BMI', 'ALCO_INT', 'FEV1_FVC', 'WBC', 'Cancer_History_Score']\n",
    "\n",
    "X = data[features]\n",
    "y = data['LUNG']\n",
    "\n",
    "X = X.fillna(X.mean())\n",
    "\n",
    "X_train, X_test, y_train, y_test = train_test_split(X, y, test_size = 0.1, random_state = 7)\n",
    "\n",
    "print(\"Training Data Shape:\", X_train.shape)\n",
    "print(\"Testing Data Shape:\", X_test.shape)"
   ]
  },
  {
   "cell_type": "code",
   "execution_count": 94,
   "id": "e3c22352-088f-4b8d-b433-1777f011aac6",
   "metadata": {
    "scrolled": true
   },
   "outputs": [
    {
     "data": {
      "image/png": "[encoded data removed]",
      "text/plain": [
       "<Figure size 1000x600 with 1 Axes>"
      ]
     },
     "metadata": {},
     "output_type": "display_data"
    },
    {
     "name": "stdout",
     "output_type": "stream",
     "text": [
      "Feature Importances:\n",
      "BMI                     0.259762\n",
      "WBC                     0.168841\n",
      "AGE_B                   0.159652\n",
      "FEV1_FVC                0.154777\n",
      "ALCO_INT                0.132641\n",
      "SMOK_INT                0.099289\n",
      "Cancer_History_Score    0.025038\n",
      "dtype: float64\n",
      "\n",
      "AUC Score: 0.7849\n"
     ]
    }
   ],
   "source": [
    "rf_model = RandomForestClassifier(random_state=7)\n",
    "rf_model.fit(X_train, y_train)\n",
    "\n",
    "# feature importance\n",
    "feature_importances = pd.Series(rf_model.feature_importances_, index=X_train.columns)\n",
    "\n",
    "plt.figure(figsize=(10, 6))\n",
    "feature_importances.sort_values(ascending=False).plot(kind='bar', color='skyblue')\n",
    "plt.title('Feature Importance from Random Forest', fontsize=16)\n",
    "plt.ylabel('Importance', fontsize=12)\n",
    "plt.xlabel('Features', fontsize=12)\n",
    "plt.xticks(rotation=45)\n",
    "plt.show()\n",
    "\n",
    "# prediction\n",
    "y_pred_prob = rf_model.predict_proba(X_test)[:, 1]  # 확률 예측\n",
    "y_pred = rf_model.predict(X_test)  # 이진 예측\n",
    "\n",
    "# AUC\n",
    "auc_score = roc_auc_score(y_test, y_pred_prob)\n",
    "\n",
    "# result\n",
    "print(\"Feature Importances:\")\n",
    "print(feature_importances.sort_values(ascending=False))\n",
    "print(f\"\\nAUC Score: {auc_score:.4f}\")"
   ]
  },
  {
   "cell_type": "markdown",
   "id": "ea9c0da8-b99f-4047-a40c-6fee54b5ac02",
   "metadata": {},
   "source": [
    "### Logistic Regression"
   ]
  },
  {
   "cell_type": "code",
   "execution_count": 103,
   "id": "69da1abc-cedf-49cc-ade7-e06afd1ae7e6",
   "metadata": {},
   "outputs": [
    {
     "name": "stdout",
     "output_type": "stream",
     "text": [
      "AUC Score: 0.7601\n"
     ]
    }
   ],
   "source": [
    "# Logistic Regression\n",
    "log_model = LogisticRegression(random_state=7, max_iter=100)\n",
    "log_model.fit(X_train, y_train)\n",
    "\n",
    "# Test\n",
    "y_pred_prob = log_model.predict_proba(X_test)[:, 1]\n",
    "auc_score = roc_auc_score(y_test, y_pred_prob)  # AUC\n",
    "\n",
    "# result\n",
    "print(f\"AUC Score: {auc_score:.4f}\")"
   ]
  },
  {
   "cell_type": "code",
   "execution_count": 104,
   "id": "722918c8-9726-4c8d-8a26-ad12d74ba9ba",
   "metadata": {},
   "outputs": [
    {
     "data": {
      "image/png": "[encoded data removed]",
      "text/plain": [
       "<Figure size 800x600 with 1 Axes>"
      ]
     },
     "metadata": {},
     "output_type": "display_data"
    }
   ],
   "source": [
    "fpr, tpr, thresholds = roc_curve(y_test, y_pred_prob)\n",
    "roc_auc = auc(fpr, tpr)\n",
    "\n",
    "# ROC Curve\n",
    "plt.figure(figsize=(8, 6))\n",
    "plt.plot(fpr, tpr, color='darkorange', lw=2, label=f'ROC curve (AUC = {roc_auc:.4f})')\n",
    "plt.plot([0, 1], [0, 1], color='navy', lw=2, linestyle='--')  # 대각선 기준선\n",
    "plt.xlim([0.0, 1.0])\n",
    "plt.ylim([0.0, 1.05])\n",
    "plt.xlabel('False Positive Rate', fontsize=12)\n",
    "plt.ylabel('True Positive Rate', fontsize=12)\n",
    "plt.title('ROC Curve for Voting Classifier', fontsize=16)\n",
    "plt.legend(loc=\"lower right\")\n",
    "plt.grid(alpha=0.3)\n",
    "plt.show()"
   ]
  },
  {
   "cell_type": "markdown",
   "id": "8318b823-91c4-49f9-9fec-4011bd33dce9",
   "metadata": {},
   "source": [
    "### Stacking Ensemble model"
   ]
  },
  {
   "cell_type": "code",
   "execution_count": 96,
   "id": "c15496e5-f872-4c2a-ab34-c275ad9f5fbe",
   "metadata": {
    "scrolled": true
   },
   "outputs": [
    {
     "name": "stderr",
     "output_type": "stream",
     "text": [
      "/Users/ryoonki/opt/anaconda3/envs/cancer_prediction/lib/python3.9/site-packages/xgboost/core.py:158: UserWarning: [20:32:28] WARNING: /Users/runner/work/xgboost/xgboost/src/learner.cc:740: \n",
      "Parameters: { \"use_label_encoder\" } are not used.\n",
      "\n",
      "  warnings.warn(smsg, UserWarning)\n"
     ]
    },
    {
     "name": "stdout",
     "output_type": "stream",
     "text": [
      "[LightGBM] [Info] Number of positive: 451, number of negative: 14808\n",
      "[LightGBM] [Info] Auto-choosing row-wise multi-threading, the overhead of testing was 0.000125 seconds.\n",
      "You can set `force_row_wise=true` to remove the overhead.\n",
      "And if memory is not enough, you can set `force_col_wise=true`.\n",
      "[LightGBM] [Info] Total Bins 1038\n",
      "[LightGBM] [Info] Number of data points in the train set: 15259, number of used features: 7\n",
      "[LightGBM] [Info] [binary:BoostFromScore]: pavg=0.029556 -> initscore=-3.491456\n",
      "[LightGBM] [Info] Start training from score -3.491456\n"
     ]
    },
    {
     "name": "stderr",
     "output_type": "stream",
     "text": [
      "/Users/ryoonki/opt/anaconda3/envs/cancer_prediction/lib/python3.9/site-packages/xgboost/core.py:158: UserWarning: [20:32:38] WARNING: /Users/runner/work/xgboost/xgboost/src/learner.cc:740: \n",
      "Parameters: { \"use_label_encoder\" } are not used.\n",
      "\n",
      "  warnings.warn(smsg, UserWarning)\n",
      "/Users/ryoonki/opt/anaconda3/envs/cancer_prediction/lib/python3.9/site-packages/xgboost/core.py:158: UserWarning: [20:32:38] WARNING: /Users/runner/work/xgboost/xgboost/src/learner.cc:740: \n",
      "Parameters: { \"use_label_encoder\" } are not used.\n",
      "\n",
      "  warnings.warn(smsg, UserWarning)\n",
      "/Users/ryoonki/opt/anaconda3/envs/cancer_prediction/lib/python3.9/site-packages/xgboost/core.py:158: UserWarning: [20:32:38] WARNING: /Users/runner/work/xgboost/xgboost/src/learner.cc:740: \n",
      "Parameters: { \"use_label_encoder\" } are not used.\n",
      "\n",
      "  warnings.warn(smsg, UserWarning)\n",
      "/Users/ryoonki/opt/anaconda3/envs/cancer_prediction/lib/python3.9/site-packages/xgboost/core.py:158: UserWarning: [20:32:38] WARNING: /Users/runner/work/xgboost/xgboost/src/learner.cc:740: \n",
      "Parameters: { \"use_label_encoder\" } are not used.\n",
      "\n",
      "  warnings.warn(smsg, UserWarning)\n",
      "/Users/ryoonki/opt/anaconda3/envs/cancer_prediction/lib/python3.9/site-packages/xgboost/core.py:158: UserWarning: [20:32:38] WARNING: /Users/runner/work/xgboost/xgboost/src/learner.cc:740: \n",
      "Parameters: { \"use_label_encoder\" } are not used.\n",
      "\n",
      "  warnings.warn(smsg, UserWarning)\n"
     ]
    },
    {
     "name": "stdout",
     "output_type": "stream",
     "text": [
      "[LightGBM] [Info] Number of positive: 361, number of negative: 11846\n",
      "[LightGBM] [Info] Auto-choosing row-wise multi-threading, the overhead of testing was 0.000104 seconds.\n",
      "You can set `force_row_wise=true` to remove the overhead.\n",
      "And if memory is not enough, you can set `force_col_wise=true`.\n",
      "[LightGBM] [Info] Total Bins 1018\n",
      "[LightGBM] [Info] Number of data points in the train set: 12207, number of used features: 7\n",
      "[LightGBM] [Info] [binary:BoostFromScore]: pavg=0.029573 -> initscore=-3.490868\n",
      "[LightGBM] [Info] Start training from score -3.490868\n",
      "[LightGBM] [Info] Number of positive: 361, number of negative: 11846\n",
      "[LightGBM] [Info] Auto-choosing row-wise multi-threading, the overhead of testing was 0.000086 seconds.\n",
      "You can set `force_row_wise=true` to remove the overhead.\n",
      "And if memory is not enough, you can set `force_col_wise=true`.\n",
      "[LightGBM] [Info] Total Bins 1018\n",
      "[LightGBM] [Info] Number of data points in the train set: 12207, number of used features: 7\n",
      "[LightGBM] [Info] [binary:BoostFromScore]: pavg=0.029573 -> initscore=-3.490868\n",
      "[LightGBM] [Info] Start training from score -3.490868\n",
      "[LightGBM] [Info] Number of positive: 361, number of negative: 11846\n",
      "[LightGBM] [Info] Auto-choosing row-wise multi-threading, the overhead of testing was 0.000080 seconds.\n",
      "You can set `force_row_wise=true` to remove the overhead.\n",
      "And if memory is not enough, you can set `force_col_wise=true`.\n",
      "[LightGBM] [Info] Total Bins 1020\n",
      "[LightGBM] [Info] Number of data points in the train set: 12207, number of used features: 7\n",
      "[LightGBM] [Info] [binary:BoostFromScore]: pavg=0.029573 -> initscore=-3.490868\n",
      "[LightGBM] [Info] Start training from score -3.490868\n",
      "[LightGBM] [Info] Number of positive: 360, number of negative: 11847\n",
      "[LightGBM] [Info] Auto-choosing row-wise multi-threading, the overhead of testing was 0.000077 seconds.\n",
      "You can set `force_row_wise=true` to remove the overhead.\n",
      "And if memory is not enough, you can set `force_col_wise=true`.\n",
      "[LightGBM] [Info] Total Bins 1018\n",
      "[LightGBM] [Info] Number of data points in the train set: 12207, number of used features: 7\n",
      "[LightGBM] [Info] [binary:BoostFromScore]: pavg=0.029491 -> initscore=-3.493726\n",
      "[LightGBM] [Info] Start training from score -3.493726\n",
      "[LightGBM] [Info] Number of positive: 361, number of negative: 11847\n",
      "[LightGBM] [Info] Auto-choosing row-wise multi-threading, the overhead of testing was 0.000111 seconds.\n",
      "You can set `force_row_wise=true` to remove the overhead.\n",
      "And if memory is not enough, you can set `force_col_wise=true`.\n",
      "[LightGBM] [Info] Total Bins 1014\n",
      "[LightGBM] [Info] Number of data points in the train set: 12208, number of used features: 7\n",
      "[LightGBM] [Info] [binary:BoostFromScore]: pavg=0.029571 -> initscore=-3.490952\n",
      "[LightGBM] [Info] Start training from score -3.490952\n",
      "AUC Score: 0.8068\n"
     ]
    }
   ],
   "source": [
    "# base model\n",
    "base_models = [\n",
    "    ('rf', RandomForestClassifier(random_state=7)),\n",
    "    ('xgb', XGBClassifier(random_state=7, use_label_encoder=False)),\n",
    "    ('lgb', LGBMClassifier(random_state=7)),\n",
    "    ('svc', SVC(kernel='rbf', probability=True, random_state=7))\n",
    "]\n",
    "\n",
    "# Stacking Ensemble Model\n",
    "stacking_model = StackingClassifier(\n",
    "    estimators=base_models,\n",
    "    final_estimator=LogisticRegression(max_iter=1000, random_state=7),\n",
    "    stack_method='predict_proba'\n",
    ")\n",
    "\n",
    "# train\n",
    "stacking_model.fit(X_train, y_train)\n",
    "\n",
    "# test\n",
    "y_pred_prob = stacking_model.predict_proba(X_test)[:, 1]\n",
    "\n",
    "# AUC\n",
    "auc_score = roc_auc_score(y_test, y_pred_prob)\n",
    "print(f\"AUC Score: {auc_score:.4f}\")"
   ]
  },
  {
   "cell_type": "markdown",
   "id": "0005eaad-ede8-4a84-b4be-cf6024db67b6",
   "metadata": {},
   "source": [
    "##### ROC AUC Visualization"
   ]
  },
  {
   "cell_type": "code",
   "execution_count": 97,
   "id": "20e506ac-9ede-4db9-949d-6ae237614432",
   "metadata": {},
   "outputs": [
    {
     "data": {
      "image/png": "[encoded data removed]",
      "text/plain": [
       "<Figure size 800x600 with 1 Axes>"
      ]
     },
     "metadata": {},
     "output_type": "display_data"
    }
   ],
   "source": [
    "fpr, tpr, thresholds = roc_curve(y_test, y_pred_prob)\n",
    "roc_auc = auc(fpr, tpr)\n",
    "\n",
    "# ROC Curve\n",
    "plt.figure(figsize=(8, 6))\n",
    "plt.plot(fpr, tpr, color='darkorange', lw=2, label=f'ROC curve (AUC = {roc_auc:.4f})')\n",
    "plt.plot([0, 1], [0, 1], color='navy', lw=2, linestyle='--')  # 대각선 기준선\n",
    "plt.xlim([0.0, 1.0])\n",
    "plt.ylim([0.0, 1.05])\n",
    "plt.xlabel('False Positive Rate', fontsize=12)\n",
    "plt.ylabel('True Positive Rate', fontsize=12)\n",
    "plt.title('ROC Curve for Voting Classifier', fontsize=16)\n",
    "plt.legend(loc=\"lower right\")\n",
    "plt.grid(alpha=0.3)\n",
    "plt.show()"
   ]
  },
  {
   "cell_type": "markdown",
   "id": "5c8a2561-fe60-42ad-8e28-46d18fd322f6",
   "metadata": {},
   "source": [
    "### Voting Classifier"
   ]
  },
  {
   "cell_type": "code",
   "execution_count": 98,
   "id": "0eaba13c-9842-496e-ab69-0718b1476763",
   "metadata": {},
   "outputs": [
    {
     "name": "stderr",
     "output_type": "stream",
     "text": [
      "/Users/ryoonki/opt/anaconda3/envs/cancer_prediction/lib/python3.9/site-packages/xgboost/core.py:158: UserWarning: [20:33:10] WARNING: /Users/runner/work/xgboost/xgboost/src/learner.cc:740: \n",
      "Parameters: { \"use_label_encoder\" } are not used.\n",
      "\n",
      "  warnings.warn(smsg, UserWarning)\n"
     ]
    },
    {
     "name": "stdout",
     "output_type": "stream",
     "text": [
      "[LightGBM] [Info] Number of positive: 451, number of negative: 14808\n",
      "[LightGBM] [Info] Auto-choosing row-wise multi-threading, the overhead of testing was 0.000105 seconds.\n",
      "You can set `force_row_wise=true` to remove the overhead.\n",
      "And if memory is not enough, you can set `force_col_wise=true`.\n",
      "[LightGBM] [Info] Total Bins 1038\n",
      "[LightGBM] [Info] Number of data points in the train set: 15259, number of used features: 7\n",
      "[LightGBM] [Info] [binary:BoostFromScore]: pavg=0.029556 -> initscore=-3.491456\n",
      "[LightGBM] [Info] Start training from score -3.491456\n",
      "AUC Score: 0.8088\n"
     ]
    }
   ],
   "source": [
    "# base model\n",
    "base_models = [\n",
    "    ('rf', RandomForestClassifier(random_state=7)),\n",
    "    ('xgb', XGBClassifier(random_state=7, use_label_encoder=False)),\n",
    "    ('lgb', LGBMClassifier(random_state=7)),\n",
    "    ('svc', SVC(kernel='rbf', probability=True, random_state=7))\n",
    "]\n",
    "\n",
    "voting_clf = VotingClassifier(\n",
    "    estimators=base_models,\n",
    "    voting='soft'\n",
    ")\n",
    "voting_clf.fit(X_train, y_train)\n",
    "y_pred_prob = voting_clf.predict_proba(X_test)[:, 1]\n",
    "\n",
    "auc_score = roc_auc_score(y_test, y_pred_prob)\n",
    "print(f\"AUC Score: {auc_score:.4f}\")"
   ]
  },
  {
   "cell_type": "markdown",
   "id": "3acf342c-67c6-4b61-9125-564165f33f8b",
   "metadata": {},
   "source": [
    "##### ROC AUC Visualization"
   ]
  },
  {
   "cell_type": "code",
   "execution_count": 99,
   "id": "f8ff0d35-8d7f-49d6-84df-95eacc8d2988",
   "metadata": {},
   "outputs": [
    {
     "data": {
      "image/png": "[encoded data removed]",
      "text/plain": [
       "<Figure size 800x600 with 1 Axes>"
      ]
     },
     "metadata": {},
     "output_type": "display_data"
    }
   ],
   "source": [
    "fpr, tpr, thresholds = roc_curve(y_test, y_pred_prob)\n",
    "roc_auc = auc(fpr, tpr)\n",
    "\n",
    "# ROC Curve\n",
    "plt.figure(figsize=(8, 6))\n",
    "plt.plot(fpr, tpr, color='darkorange', lw=2, label=f'ROC curve (AUC = {roc_auc:.4f})')\n",
    "plt.plot([0, 1], [0, 1], color='navy', lw=2, linestyle='--')  # 대각선 기준선\n",
    "plt.xlim([0.0, 1.0])\n",
    "plt.ylim([0.0, 1.05])\n",
    "plt.xlabel('False Positive Rate', fontsize=12)\n",
    "plt.ylabel('True Positive Rate', fontsize=12)\n",
    "plt.title('ROC Curve for Voting Classifier', fontsize=16)\n",
    "plt.legend(loc=\"lower right\")\n",
    "plt.grid(alpha=0.3)\n",
    "plt.show()"
   ]
  },
  {
   "cell_type": "markdown",
   "id": "02abcadb-1ca8-4ccf-b41d-fa197586ba6d",
   "metadata": {},
   "source": [
    "# 그 외 다른 시도"
   ]
  },
  {
   "cell_type": "code",
   "execution_count": 70,
   "id": "7d735acc-3b27-41bb-b07d-7ccfc45ba944",
   "metadata": {},
   "outputs": [
    {
     "name": "stdout",
     "output_type": "stream",
     "text": [
      "AUC Score: 0.5929409385113268\n"
     ]
    }
   ],
   "source": [
    "# kmeans train\n",
    "kmeans = KMeans(n_clusters=2, random_state=7)\n",
    "X_train['Cluster'] = kmeans.fit_predict(X_train)\n",
    "\n",
    "# kmeans predict\n",
    "X_test['Cluster'] = kmeans.predict(X_test)\n",
    "\n",
    "# train classifier\n",
    "clf = LogisticRegression(max_iter=1000, random_state=7)\n",
    "clf.fit(X_train[['Cluster']], y_train)\n",
    "\n",
    "# AUC\n",
    "y_pred_prob = clf.predict_proba(X_test[['Cluster']])[:, 1]\n",
    "auc_score = roc_auc_score(y_test, y_pred_prob)\n",
    "print(f\"AUC Score: {auc_score}\")"
   ]
  },
  {
   "cell_type": "code",
   "execution_count": null,
   "id": "5d1a40c6-20f0-4083-873a-8b22ef9f2b69",
   "metadata": {},
   "outputs": [],
   "source": []
  }
 ],
 "metadata": {
  "kernelspec": {
   "display_name": "Python 3 (ipykernel)",
   "language": "python",
   "name": "python3"
  },
  "language_info": {
   "codemirror_mode": {
    "name": "ipython",
    "version": 3
   },
   "file_extension": ".py",
   "mimetype": "text/x-python",
   "name": "python",
   "nbconvert_exporter": "python",
   "pygments_lexer": "ipython3",
   "version": "3.9.20"
  }
 },
 "nbformat": 4,
 "nbformat_minor": 5
}
